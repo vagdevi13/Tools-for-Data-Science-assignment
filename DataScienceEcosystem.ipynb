{
 "cells": [
  {
   "cell_type": "markdown",
   "id": "69ee00fa-0e74-47c2-bd65-799028e0a3e1",
   "metadata": {},
   "source": [
    "# Data Science Tools And Ecosystem"
   ]
  },
  {
   "cell_type": "markdown",
   "id": "72a9cc7f-425c-41c3-8ab5-2317bf98c615",
   "metadata": {},
   "source": [
    "In this notebook, Data Science Tools and Ecosystem are summarized."
   ]
  },
  {
   "cell_type": "markdown",
   "id": "0e784ed6-648a-4723-af48-6dea4af1b3ab",
   "metadata": {},
   "source": [
    "The following are the popular languages that Data Scientists use:\n",
    "1. Python\n",
    "2. R\n",
    "3. SQL\n",
    "4. Julia\n",
    "5. C++\n",
    "6. Java\n",
    "7. Scala"
   ]
  },
  {
   "cell_type": "markdown",
   "id": "43edbd52-e70c-4659-bba3-6b353ae9fe0d",
   "metadata": {},
   "source": [
    "The following are commonly used libraries used by Data Scientists:\n",
    "1. TensorFlow\n",
    "2. Scikit-learn\n",
    "3. Pandas\n",
    "4. Matplotlib\n",
    "5. Theano\n",
    "6. Ggplot2\n",
    "7. Scipy\n",
    "8. Keras\n"
   ]
  },
  {
   "cell_type": "markdown",
   "id": "8ad1bda3-d559-4eb8-87e7-81ca1bbb8435",
   "metadata": {},
   "source": [
    "## Data Science Tools\n",
    "\n",
    "|*Data science tools*|\n",
    "|---------------------|\n",
    "|Apache Spark|\n",
    "|Tableau|\n",
    "|Excel|\n",
    "|Project Jupyter|\n",
    "|KNIME|\n",
    "|SAS|\n",
    "|Qlik|\n",
    "|Keras|\n",
    "\n",
    "\n"
   ]
  },
  {
   "cell_type": "markdown",
   "id": "4898a6db-9572-4c79-b6b2-4e76d28b18de",
   "metadata": {},
   "source": [
    "### Examples of arithmetic expressions\n",
    "\n",
    "5 $*$ 6 = 30\n",
    "\n",
    "7 $+$ 3 $-$ 1 = 9\n"
   ]
  },
  {
   "cell_type": "code",
   "execution_count": 4,
   "id": "253a126d-10cd-4015-b993-ffd02b0322cd",
   "metadata": {},
   "outputs": [
    {
     "name": "stdout",
     "output_type": "stream",
     "text": [
      "17\n"
     ]
    }
   ],
   "source": [
    "Result = (3*4)+5\n",
    "#This is an arithmetic expression to multiply and then add the given integers\n",
    "print(Result)"
   ]
  },
  {
   "cell_type": "code",
   "execution_count": 5,
   "id": "5641b22a-0b36-4ac0-bbb0-92b25ab0367f",
   "metadata": {},
   "outputs": [
    {
     "name": "stdin",
     "output_type": "stream",
     "text": [
      "Enter the minutes to be converted into hours: 200\n"
     ]
    },
    {
     "name": "stdout",
     "output_type": "stream",
     "text": [
      "200 minutes are equal to 3.3333333333333335 hours.\n"
     ]
    }
   ],
   "source": [
    "#code to convert minutes into hours\n",
    "minutes = int(input(\"Enter the minutes to be converted into hours:\"))\n",
    "hours = minutes/60\n",
    "print(minutes,\"minutes are equal to\",hours,\"hours.\")"
   ]
  },
  {
   "cell_type": "markdown",
   "id": "ef38e277-f184-4ca9-bdcc-34228a32019a",
   "metadata": {},
   "source": [
    "**Objectives:**\n",
    "* List popular languages for Data Science.\n",
    "* List popular libraries for Data Science.\n",
    "* List popular tools for Data Science\n",
    "* Arithmetic expressions\n",
    "* Using Jupyter Notebook\n",
    "\n"
   ]
  },
  {
   "cell_type": "markdown",
   "id": "62fe57b3-f0fc-4623-a929-7c581340dc82",
   "metadata": {},
   "source": [
    "## Author\n",
    "Vagdevi Yaragapu"
   ]
  },
  {
   "cell_type": "code",
   "execution_count": null,
   "id": "8cdc8dc6-bb66-45f1-ac26-ab38d7507d31",
   "metadata": {},
   "outputs": [],
   "source": []
  }
 ],
 "metadata": {
  "kernelspec": {
   "display_name": "Python",
   "language": "python",
   "name": "conda-env-python-py"
  },
  "language_info": {
   "codemirror_mode": {
    "name": "ipython",
    "version": 3
   },
   "file_extension": ".py",
   "mimetype": "text/x-python",
   "name": "python",
   "nbconvert_exporter": "python",
   "pygments_lexer": "ipython3",
   "version": "3.7.12"
  }
 },
 "nbformat": 4,
 "nbformat_minor": 5
}
